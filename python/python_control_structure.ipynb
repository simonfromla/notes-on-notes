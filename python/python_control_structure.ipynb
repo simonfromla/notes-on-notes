{
 "cells": [
  {
   "cell_type": "code",
   "execution_count": 2,
   "metadata": {
    "collapsed": true
   },
   "outputs": [],
   "source": [
    "# Using 'in' in condition checking\n",
    "def num_chk(n):\n",
    "    if n == 10 or n == 21 or n == 33:\n",
    "        print(\"Number passes condition\")\n",
    "    else:\n",
    "        print(\"Number fails condition\")"
   ]
  },
  {
   "cell_type": "code",
   "execution_count": 3,
   "metadata": {},
   "outputs": [
    {
     "name": "stdout",
     "output_type": "stream",
     "text": [
      "Number passes condition\n"
     ]
    }
   ],
   "source": [
    "# Versus .\n",
    "def num_chk(n):\n",
    "    if n in (10, 21, 33):\n",
    "        print(\"Number passes condition\")\n",
    "    else:\n",
    "        print(\"Number fails condition\")\n",
    "num_chk(10)"
   ]
  },
  {
   "cell_type": "code",
   "execution_count": 5,
   "metadata": {},
   "outputs": [
    {
     "name": "stdout",
     "output_type": "stream",
     "text": [
      "23 is an odd number\n"
     ]
    }
   ],
   "source": [
    "# Using if-else as a conditional operator\n",
    "num = 23\n",
    "\n",
    "num_type = 'even' if num % 2 == 0 else 'odd'\n",
    "print(\"{} is an {} number\".format(num, num_type))"
   ]
  },
  {
   "cell_type": "code",
   "execution_count": 6,
   "metadata": {},
   "outputs": [
    {
     "name": "stdout",
     "output_type": "stream",
     "text": [
      "9 * 1 = 9\n",
      "9 * 2 = 18\n",
      "9 * 3 = 27\n",
      "9 * 4 = 36\n",
      "Enter a positive integer: 2\n"
     ]
    }
   ],
   "source": [
    "# Traditional iteration-based 'for' loop using range()\n",
    "number = 9\n",
    "for i in range(1, 5):\n",
    "    mul_table = number * i\n",
    "    print(\"{} * {} = {}\".format(number, i, mul_table))\n",
    "    \n",
    "usr_string = 'not a number'\n",
    "while not usr_string.isnumeric():\n",
    "    usr_string = input(\"Enter a positive integer: \")"
   ]
  },
  {
   "cell_type": "code",
   "execution_count": 8,
   "metadata": {},
   "outputs": [
    {
     "name": "stdout",
     "output_type": "stream",
     "text": [
      "The first ten numbers in fibonacci sequence: 0 1 1 2 3 5 8 13 21 34 \n"
     ]
    }
   ],
   "source": [
    "# 'continue' and 'break'\n",
    "# continue - skip rest of statements in the loop and start next iteration\n",
    "prev_num = 0\n",
    "curr_num = 0\n",
    "print(\"The first ten numbers in fibonacci sequence: \", end='')\n",
    "\n",
    "for num in range(10):\n",
    "    print(curr_num, end=' ')\n",
    "\n",
    "    if num == 0:\n",
    "        curr_num = 1\n",
    "        continue\n",
    "\n",
    "    temp = curr_num\n",
    "    curr_num = curr_num + prev_num\n",
    "    prev_num = temp\n",
    "\n",
    "print(\"\")"
   ]
  },
  {
   "cell_type": "code",
   "execution_count": 9,
   "metadata": {},
   "outputs": [
    {
     "name": "stdout",
     "output_type": "stream",
     "text": [
      "Random number divisible by 4 and 6: 384\n"
     ]
    }
   ],
   "source": [
    "# break - skip rest of statements in the loop (if any) and exit loop\n",
    "import random\n",
    "\n",
    "while True:\n",
    "    # as with range() function, 500 is not inclusive\n",
    "    random_int = random.randrange(500)\n",
    "    if random_int % 4 == 0 and random_int % 6 == 0:\n",
    "        break\n",
    "print(\"Random number divisible by 4 and 6: {}\".format(random_int))"
   ]
  },
  {
   "cell_type": "code",
   "execution_count": null,
   "metadata": {
    "collapsed": true
   },
   "outputs": [],
   "source": []
  }
 ],
 "metadata": {
  "kernelspec": {
   "display_name": "Python 3",
   "language": "python",
   "name": "python3"
  },
  "language_info": {
   "codemirror_mode": {
    "name": "ipython",
    "version": 3
   },
   "file_extension": ".py",
   "mimetype": "text/x-python",
   "name": "python",
   "nbconvert_exporter": "python",
   "pygments_lexer": "ipython3",
   "version": "3.5.2"
  }
 },
 "nbformat": 4,
 "nbformat_minor": 2
}
