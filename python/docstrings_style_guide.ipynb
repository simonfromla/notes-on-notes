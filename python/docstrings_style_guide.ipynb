{
 "cells": [
  {
   "cell_type": "code",
   "execution_count": 16,
   "metadata": {},
   "outputs": [
    {
     "name": "stdout",
     "output_type": "stream",
     "text": [
      "IP addresses: fe80::82e6:50ff:fe27:d296%en0, 192.168.29.113\n",
      "Fully-qualified name: macintosh.local\n",
      "Hostname: Macintosh.local\n"
     ]
    }
   ],
   "source": [
    "\"\"\"\n",
    "Docstrings/Style Guide\n",
    "https://docs.python.org/3/tutorial/controlflow.html#intermezzo-coding-style\n",
    "\n",
    "* Use 4-space indentation, and no tabs.\n",
    "    4 spaces are a good compromise between small indentation (allows greater nesting depth) and large indentation (easier to read). Tabs introduce confusion, and are best left out.\n",
    "* Wrap lines so that they don’t exceed 79 characters.\n",
    "    This helps users with small displays and makes it possible to have several code files side-by-side on larger displays.\n",
    "* Use blank lines to separate functions and classes, and larger blocks of code inside functions.\n",
    "* When possible, put comments on a line of their own.\n",
    "* Use docstrings.\n",
    "* Use spaces around operators and after commas\n",
    "* Name your classes and functions consistently;\n",
    "    the convention is to use CamelCase for classes and lower_case_with_underscores for functions and methods\n",
    "\"\"\"\n",
    "\n",
    "\n",
    "# Obtain hostname & IP, example\n",
    "\n",
    "\"\"\"\n",
    "Module documentation goes here.\n",
    "\n",
    "Obtains and prints IP address and local machine hostname\n",
    "\n",
    "What's accepted? What isn't? Description of\n",
    "what module does.\n",
    "\"\"\"\n",
    "\n",
    "import sys, socket\n",
    "\n",
    "\n",
    "def getipaddrs(hostname):\n",
    "    \"\"\"\n",
    "    Function level docstring\n",
    "\n",
    "    Takes hostname as arg\n",
    "    \n",
    "    Returns the IP address\n",
    "    \"\"\"\n",
    "    result = socket.getaddrinfo(hostname, None, 0, socket.SOCK_STREAM)\n",
    "    return [x[4][0] for x in result]\n",
    "\n",
    "\n",
    "def main():\n",
    "    hostname = socket.gethostname()\n",
    "    \n",
    "    try:\n",
    "        print(\"IP addresses:\", \", \".join(getipaddrs(hostname)))\n",
    "    except socket.gaierror as e:\n",
    "        print(\"Could not obtain IP address:\", e)\n",
    "\n",
    "    # Try to get the fully-qualified name.\n",
    "    print(\"Fully-qualified name:\", socket.getfqdn(hostname))\n",
    "    print(\"Hostname:\", hostname)\n",
    "\n",
    "\n",
    "if __name__ == \"__main__\":\n",
    "    main()"
   ]
  },
  {
   "cell_type": "code",
   "execution_count": 13,
   "metadata": {},
   "outputs": [
    {
     "ename": "NameError",
     "evalue": "name 'docstrings' is not defined",
     "output_type": "error",
     "traceback": [
      "\u001b[0;31m---------------------------------------------------------------------------\u001b[0m",
      "\u001b[0;31mNameError\u001b[0m                                 Traceback (most recent call last)",
      "\u001b[0;32m<ipython-input-13-8283ae53d704>\u001b[0m in \u001b[0;36m<module>\u001b[0;34m()\u001b[0m\n\u001b[1;32m      1\u001b[0m \u001b[0;31m# How the docstrings are used as help\u001b[0m\u001b[0;34m\u001b[0m\u001b[0;34m\u001b[0m\u001b[0m\n\u001b[1;32m      2\u001b[0m \u001b[0;31m# Auto-formatted by NAME DESCRIPTION FUNCTIONS FILE\u001b[0m\u001b[0;34m\u001b[0m\u001b[0;34m\u001b[0m\u001b[0m\n\u001b[0;32m----> 3\u001b[0;31m \u001b[0mhelp\u001b[0m\u001b[0;34m(\u001b[0m\u001b[0mdocstrings\u001b[0m\u001b[0;34m-\u001b[0m\u001b[0mstyle\u001b[0m\u001b[0;34m-\u001b[0m\u001b[0mguide\u001b[0m\u001b[0;34m.\u001b[0m\u001b[0mpy\u001b[0m\u001b[0;34m)\u001b[0m\u001b[0;34m\u001b[0m\u001b[0m\n\u001b[0m\u001b[1;32m      4\u001b[0m \u001b[0;34m\u001b[0m\u001b[0m\n\u001b[1;32m      5\u001b[0m \u001b[0;31m# Get help on functions directly as well\u001b[0m\u001b[0;34m\u001b[0m\u001b[0;34m\u001b[0m\u001b[0m\n",
      "\u001b[0;31mNameError\u001b[0m: name 'docstrings' is not defined"
     ]
    }
   ],
   "source": [
    "# How the docstrings are used as help\n",
    "# Auto-formatted by NAME DESCRIPTION FUNCTIONS FILE\n",
    "help(docstrings-style-guide.py)\n",
    "\n",
    "# Get help on functions directly as well\n",
    "help(docstrings-style-guide.getipaddrs)"
   ]
  },
  {
   "cell_type": "code",
   "execution_count": null,
   "metadata": {
    "collapsed": true
   },
   "outputs": [],
   "source": []
  }
 ],
 "metadata": {
  "kernelspec": {
   "display_name": "Python 3",
   "language": "python",
   "name": "python3"
  },
  "language_info": {
   "codemirror_mode": {
    "name": "ipython",
    "version": 3
   },
   "file_extension": ".py",
   "mimetype": "text/x-python",
   "name": "python",
   "nbconvert_exporter": "python",
   "pygments_lexer": "ipython3",
   "version": "3.5.2"
  }
 },
 "nbformat": 4,
 "nbformat_minor": 2
}
