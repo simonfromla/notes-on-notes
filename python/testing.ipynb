{
 "cells": [
  {
   "cell_type": "code",
   "execution_count": 13,
   "metadata": {},
   "outputs": [
    {
     "data": {
      "text/plain": [
       "120"
      ]
     },
     "execution_count": 13,
     "metadata": {},
     "output_type": "execute_result"
    }
   ],
   "source": [
    "\"\"\"\n",
    "# assert statement\n",
    "\n",
    "\"\"\"\n",
    "\n",
    "\n",
    "assert 2 ** 3 == 8\n",
    "# assert 3 > 4 # Raises AssertionError\n",
    "\n",
    "\"\"\"\n",
    "* `assert`, primarily used for debugging. Catch false assumptions made while writing code, invalid input, conditions that shouldnt occur\n",
    "* Optional message can be passed for descripton\n",
    "* If python program is ran with `-o` option, assertions can be skipped and not evaluated\n",
    "* `assert` is a statement, not a function\n",
    "\n",
    "\"\"\"\n",
    "# Optional message\n",
    "# assert statement within a func. Make sure IDs always numeric\n",
    "def add(self, id, name):\n",
    "    assert type(id) is IntType, \"id is not an integer: %r\" % id\n",
    "\n",
    "\"\"\"\n",
    "consider putting assertions:\n",
    "* checking parameter types, classes, or values\n",
    "* checking data structure invariants\n",
    "* checking \"can't happen\" situations (duplicates in a list, contradictory state variables.)\n",
    "* after calling a function, to make sure that its return is reasonable\n",
    "The overall point is that if something does go wrong, we want to make it completely obvious as soon as possible.\n",
    "One important reason why assertions should only be used for self-tests of the program is that assertions can be disabled at compile time.(`-o`)\n",
    "\n",
    "\"\"\"\n",
    "\n",
    "def fact(n):\n",
    "    assert type(n) == int and n >= 0, \"Number should be zero or positive integer\"\n",
    "    total = 1\n",
    "    for num in range(1, n+1):\n",
    "        total *= num\n",
    "    return total\n",
    "fact(5)\n",
    "# fact(-2) # Raises AssertionError: Number should be zero or positive integer\n"
   ]
  },
  {
   "cell_type": "code",
   "execution_count": 18,
   "metadata": {},
   "outputs": [
    {
     "ename": "AttributeError",
     "evalue": "module 'example_palindrome' has no attribute 'is_palindrome'",
     "output_type": "error",
     "traceback": [
      "\u001b[0;31m---------------------------------------------------------------------------\u001b[0m",
      "\u001b[0;31mAttributeError\u001b[0m                            Traceback (most recent call last)",
      "\u001b[0;32m<ipython-input-18-3a0183a44c0b>\u001b[0m in \u001b[0;36m<module>\u001b[0;34m()\u001b[0m\n\u001b[1;32m      8\u001b[0m \u001b[0;32mimport\u001b[0m \u001b[0mexample_palindrome\u001b[0m\u001b[0;34m\u001b[0m\u001b[0m\n\u001b[1;32m      9\u001b[0m \u001b[0;34m\u001b[0m\u001b[0m\n\u001b[0;32m---> 10\u001b[0;31m \u001b[0;32massert\u001b[0m \u001b[0mexample_palindrome\u001b[0m\u001b[0;34m.\u001b[0m\u001b[0mis_palindrome\u001b[0m\u001b[0;34m(\u001b[0m\u001b[0;34m'Madam'\u001b[0m\u001b[0;34m)\u001b[0m\u001b[0;34m\u001b[0m\u001b[0m\n\u001b[0m\u001b[1;32m     11\u001b[0m \u001b[0;32massert\u001b[0m \u001b[0mexample_palindrome\u001b[0m\u001b[0;34m.\u001b[0m\u001b[0mis_palindrome\u001b[0m\u001b[0;34m(\u001b[0m\u001b[0;34m\"Dammit, I'm mad!\"\u001b[0m\u001b[0;34m)\u001b[0m\u001b[0;34m\u001b[0m\u001b[0m\n\u001b[1;32m     12\u001b[0m \u001b[0;32massert\u001b[0m \u001b[0;32mnot\u001b[0m \u001b[0mexample_palindrome\u001b[0m\u001b[0;34m.\u001b[0m\u001b[0mis_palindrome\u001b[0m\u001b[0;34m(\u001b[0m\u001b[0;34m'aaa'\u001b[0m\u001b[0;34m)\u001b[0m\u001b[0;34m\u001b[0m\u001b[0m\n",
      "\u001b[0;31mAttributeError\u001b[0m: module 'example_palindrome' has no attribute 'is_palindrome'"
     ]
    }
   ],
   "source": [
    "\"\"\"\n",
    "Testing programs with assert\n",
    "\n",
    "\n",
    "`assert` can be used to test within programs, or in its own separate test program\n",
    "Make sure test and program being tested are in the same directory\n",
    "\"\"\"\n",
    "import example_palindrome\n",
    "\n",
    "assert example_palindrome.is_palindrome('Madam')\n",
    "assert example_palindrome.is_palindrome(\"Dammit, I'm mad!\")\n",
    "assert not example_palindrome.is_palindrome('aaa')\n",
    "assert example_palindrome.is_palindrome('Malayalam')\n",
    "\n",
    "try:\n",
    "    assert example_palindrome.is_palindrome('as2')\n",
    "except ValueError as e:\n",
    "    assert str(e) == 'Characters other than alphabets and punctuations'\n",
    "\n",
    "try:\n",
    "    assert example_palindrome.is_palindrome(\"a'a\")\n",
    "except ValueError as e:\n",
    "    assert str(e) == 'Less than 3 alphabets'\n",
    "\n",
    "print('All tests passed')\n"
   ]
  },
  {
   "cell_type": "code",
   "execution_count": 20,
   "metadata": {},
   "outputs": [
    {
     "name": "stderr",
     "output_type": "stream",
     "text": [
      "E\n",
      "======================================================================\n",
      "ERROR: /Users/sjung/Library/Jupyter/runtime/kernel-8963246c-f09f-4d7b-9143-66092068ce51 (unittest.loader._FailedTest)\n",
      "----------------------------------------------------------------------\n",
      "AttributeError: module '__main__' has no attribute '/Users/sjung/Library/Jupyter/runtime/kernel-8963246c-f09f-4d7b-9143-66092068ce51'\n",
      "\n",
      "----------------------------------------------------------------------\n",
      "Ran 1 test in 0.003s\n",
      "\n",
      "FAILED (errors=1)\n"
     ]
    },
    {
     "ename": "SystemExit",
     "evalue": "True",
     "output_type": "error",
     "traceback": [
      "An exception has occurred, use %tb to see the full traceback.\n",
      "\u001b[0;31mSystemExit\u001b[0m\u001b[0;31m:\u001b[0m True\n"
     ]
    },
    {
     "name": "stderr",
     "output_type": "stream",
     "text": [
      "/Library/Frameworks/Python.framework/Versions/3.5/lib/python3.5/site-packages/IPython/core/interactiveshell.py:2870: UserWarning: To exit: use 'exit', 'quit', or Ctrl-D.\n",
      "  warn(\"To exit: use 'exit', 'quit', or Ctrl-D.\", stacklevel=1)\n"
     ]
    }
   ],
   "source": [
    "\"\"\"\n",
    "Unittest unit testing framework\n",
    "\n",
    "* Subclass unittest.TestCase \n",
    "* Group different types of tests in different functions\n",
    "* Funcs named \"test_x\" will be called with unittest.main()\n",
    "\"\"\"\n",
    "import example_palindrome\n",
    "import unittest\n",
    "\n",
    "class TestPalindrome(unittest.TestCase):\n",
    "\n",
    "    def test_valid(self):\n",
    "        # check valid input strings\n",
    "        self.assertTrue(palindrome.is_palindrome('kek'))\n",
    "        self.assertTrue(palindrome.is_palindrome(\"Dammit, I'm mad!\"))\n",
    "        self.assertFalse(palindrome.is_palindrome('zzz'))\n",
    "        self.assertFalse(palindrome.is_palindrome('cool'))\n",
    "\n",
    "    def test_error(self):\n",
    "        # check only the exception raised\n",
    "        with self.assertRaises(ValueError):\n",
    "            palindrome.is_palindrome('abc123')\n",
    "\n",
    "        with self.assertRaises(TypeError):\n",
    "            palindrome.is_palindrome(7)\n",
    "\n",
    "        # check error message as well\n",
    "        with self.assertRaises(ValueError) as cm:\n",
    "            palindrome.is_palindrome('on 2 no')\n",
    "        em = str(cm.exception)\n",
    "        self.assertEqual(em, 'Characters other than alphabets and punctuations')\n",
    "\n",
    "        with self.assertRaises(ValueError) as cm:\n",
    "            palindrome.is_palindrome('to')\n",
    "        em = str(cm.exception)\n",
    "        self.assertEqual(em, 'Less than 3 alphabets')\n",
    "\n",
    "if __name__ == '__main__':\n",
    "    unittest.main()\n"
   ]
  },
  {
   "cell_type": "code",
   "execution_count": null,
   "metadata": {
    "collapsed": true
   },
   "outputs": [],
   "source": [
    "\"\"\"\n",
    "unittest.mock\n",
    "\"\"\"\n",
    "\n"
   ]
  }
 ],
 "metadata": {
  "kernelspec": {
   "display_name": "Python 3",
   "language": "python",
   "name": "python3"
  },
  "language_info": {
   "codemirror_mode": {
    "name": "ipython",
    "version": 3
   },
   "file_extension": ".py",
   "mimetype": "text/x-python",
   "name": "python",
   "nbconvert_exporter": "python",
   "pygments_lexer": "ipython3",
   "version": "3.5.2"
  }
 },
 "nbformat": 4,
 "nbformat_minor": 2
}
