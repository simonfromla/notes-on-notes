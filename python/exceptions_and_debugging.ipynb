{
 "cells": [
  {
   "cell_type": "code",
   "execution_count": null,
   "metadata": {
    "collapsed": true
   },
   "outputs": [],
   "source": [
    "\"\"\"\n",
    "Exceptions to inform the user of errors and a chance to correct it\n",
    "Expect an error, and handle it, in place of multiple if-else, try-except\n",
    "\n",
    "https://docs.python.org/3/tutorial/errors.html\n",
    "\n",
    "Raising an exception\n",
    "Raise an exception in your own program to break current code execution and return exception until it is handled\n",
    "\n",
    "\"\"\"\n",
    "while True:\n",
    "    try:\n",
    "        usr_num = int(input(\"Enter an integer number: \"))\n",
    "        break\n",
    "    except ValueError:\n",
    "        print(\"Not an integer, try again\")\n",
    "\n",
    "print(\"Square of entered number is: {}\".format(usr_num * usr_num))\n",
    "\n",
    "\"\"\"\n",
    "Examples of common exceptions\n",
    "\n",
    "IOError\n",
    "If the file cannot be opened.\n",
    "`except IOError:\n",
    "    print('An error occurred trying to read the file.')`\n",
    "\n",
    "ImportError\n",
    "If python cannot find the module\n",
    "`except ImportError:\n",
    "    print \"NO module found\"`\n",
    "\n",
    "ValueError\n",
    "Raised when a built-in operation or function receives an argument that has the\n",
    "right type but an inappropriate value\n",
    "`except ValueError:\n",
    "    print('Non-numeric data found in the file.')`\n",
    "\n",
    "KeyboardInterrupt\n",
    "Raised when the user hits the interrupt key (normally Control-C or Delete)\n",
    "\n",
    "EOFError\n",
    "Raised when one of the built-in functions (input() or raw_input()) hits an\n",
    "end-of-file condition (EOF) without reading any data\n",
    "\"\"\"\n",
    "\n",
    "\"\"\"\n",
    "Invoke the debugger from the command line: `python -m pdb program.py`\n",
    "\n",
    "\"\"\"\n",
    "\n",
    "\"\"\"\n",
    "Testing by importing functions\n",
    "\"\"\""
   ]
  }
 ],
 "metadata": {
  "kernelspec": {
   "display_name": "Python 3",
   "language": "python",
   "name": "python3"
  },
  "language_info": {
   "codemirror_mode": {
    "name": "ipython",
    "version": 3
   },
   "file_extension": ".py",
   "mimetype": "text/x-python",
   "name": "python",
   "nbconvert_exporter": "python",
   "pygments_lexer": "ipython3",
   "version": "3.5.2"
  }
 },
 "nbformat": 4,
 "nbformat_minor": 2
}
